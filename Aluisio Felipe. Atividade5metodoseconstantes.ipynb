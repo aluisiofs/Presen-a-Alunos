{
  "nbformat": 4,
  "nbformat_minor": 0,
  "metadata": {
    "colab": {
      "provenance": [],
      "authorship_tag": "ABX9TyOm2mCcQvcY8zlIAOB50GMi",
      "include_colab_link": true
    },
    "kernelspec": {
      "name": "python3",
      "display_name": "Python 3"
    },
    "language_info": {
      "name": "python"
    }
  },
  "cells": [
    {
      "cell_type": "markdown",
      "metadata": {
        "id": "view-in-github",
        "colab_type": "text"
      },
      "source": [
        "<a href=\"https://colab.research.google.com/github/aluisiofs/Presen-a-Alunos/blob/master/Aluisio%20Felipe.%20Atividade5metodoseconstantes.ipynb\" target=\"_parent\"><img src=\"https://colab.research.google.com/assets/colab-badge.svg\" alt=\"Open In Colab\"/></a>"
      ]
    },
    {
      "cell_type": "code",
      "execution_count": 4,
      "metadata": {
        "colab": {
          "base_uri": "https://localhost:8080/"
        },
        "id": "bsXivcHIQn-t",
        "outputId": "28db3225-535b-4ec1-8e4f-ece420ac5a4c"
      },
      "outputs": [
        {
          "output_type": "stream",
          "name": "stdout",
          "text": [
            " Ola Aluisio Silva\n"
          ]
        }
      ],
      "source": [
        "class Usuario():\n",
        "  primeiroNome = \"\"\n",
        "  ultimoNome = \"\"\n",
        "\n",
        "  def hello(self):\n",
        "    return \" Ola \" + self.primeiroNome + \" \" +self.ultimoNome\n",
        "\n",
        "  def getNomeCompleto(self):\n",
        "      return self.primeiroNome + self.ultimoNome\n",
        "\n",
        "usuario1 = Usuario()\n",
        "usuario1. primeiroNome = \"Aluisio\"\n",
        "usuario1.ultimoNome = \"Silva\"\n",
        "print(usuario1.hello())\n"
      ]
    }
  ]
}